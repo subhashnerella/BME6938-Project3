{
 "cells": [
  {
   "cell_type": "code",
   "execution_count": 1,
   "metadata": {},
   "outputs": [
    {
     "name": "stderr",
     "output_type": "stream",
     "text": [
      "Using TensorFlow backend.\n"
     ]
    }
   ],
   "source": [
    "import numpy\n",
    "from keras.datasets import cifar10\n",
    "from keras.models import Sequential\n",
    "from keras.layers import Dense\n",
    "from keras.layers import Dropout\n",
    "from keras.layers import Flatten\n",
    "from keras.layers.convolutional import Conv2D\n",
    "from keras.layers.convolutional import MaxPooling2D\n",
    "from keras.utils import np_utils\n",
    "from keras import backend as K\n",
    "from keras import optimizers"
   ]
  },
  {
   "cell_type": "code",
   "execution_count": 2,
   "metadata": {},
   "outputs": [],
   "source": [
    "# load data\n",
    "(X_train, y_train), (X_test, y_test) = cifar10.load_data()"
   ]
  },
  {
   "cell_type": "code",
   "execution_count": 3,
   "metadata": {},
   "outputs": [],
   "source": [
    "seed = 7\n",
    "numpy.random.seed(seed)"
   ]
  },
  {
   "cell_type": "markdown",
   "metadata": {},
   "source": [
    "# <font color='red'> Multilayer Perceptron</font>"
   ]
  },
  {
   "cell_type": "code",
   "execution_count": 4,
   "metadata": {},
   "outputs": [],
   "source": [
    "\n",
    "X_train = X_train.reshape(X_train.shape[0], -1).astype('float32')\n",
    "X_test = X_test.reshape(X_test.shape[0], -1).astype('float32')\n",
    "num_pixels = X_train.shape[1]"
   ]
  },
  {
   "cell_type": "code",
   "execution_count": 5,
   "metadata": {},
   "outputs": [],
   "source": [
    "# normalize inputs from 0-255 to 0-1\n",
    "X_train = X_train / 255\n",
    "X_test = X_test / 255\n",
    "y_train = np_utils.to_categorical(y_train)\n",
    "y_test = np_utils.to_categorical(y_test)\n",
    "num_classes = y_test.shape[1]"
   ]
  },
  {
   "cell_type": "code",
   "execution_count": 6,
   "metadata": {},
   "outputs": [],
   "source": [
    "# define baseline model\n",
    "def baseline_model():\n",
    "    # create model\n",
    "    model = Sequential()\n",
    "    model.add(Dense(num_pixels, input_dim=num_pixels, kernel_initializer='normal', activation='relu'))\n",
    "    #model.add(Dense(int(num_pixels/2),  kernel_initializer='normal', activation='relu'))\n",
    "    model.add(Dense(num_classes, kernel_initializer='normal', activation='softmax'))\n",
    "    # Compile model\n",
    "    Adam = optimizers.Adam(lr=0.001)\n",
    "    model.compile(loss='categorical_crossentropy', optimizer=Adam, metrics=['accuracy'])\n",
    "    return model"
   ]
  },
  {
   "cell_type": "code",
   "execution_count": 7,
   "metadata": {},
   "outputs": [
    {
     "name": "stdout",
     "output_type": "stream",
     "text": [
      "Train on 50000 samples, validate on 10000 samples\n",
      "Epoch 1/30\n",
      " - 3s - loss: 13.5974 - acc: 0.1217 - val_loss: 13.0817 - val_acc: 0.1468\n",
      "Epoch 2/30\n",
      " - 2s - loss: 13.1393 - acc: 0.1319 - val_loss: 13.0260 - val_acc: 0.1495\n",
      "Epoch 3/30\n",
      " - 2s - loss: 13.0649 - acc: 0.1370 - val_loss: 13.1739 - val_acc: 0.1134\n",
      "Epoch 4/30\n",
      " - 2s - loss: 13.0530 - acc: 0.1385 - val_loss: 13.0201 - val_acc: 0.1467\n",
      "Epoch 5/30\n",
      " - 2s - loss: 13.0394 - acc: 0.1416 - val_loss: 12.9913 - val_acc: 0.1536\n",
      "Epoch 6/30\n",
      " - 2s - loss: 13.0353 - acc: 0.1418 - val_loss: 13.0962 - val_acc: 0.1228\n",
      "Epoch 7/30\n",
      " - 2s - loss: 13.0027 - acc: 0.1493 - val_loss: 12.9888 - val_acc: 0.1534\n",
      "Epoch 8/30\n",
      " - 2s - loss: 10.3117 - acc: 0.1853 - val_loss: 1.9607 - val_acc: 0.2876\n",
      "Epoch 9/30\n",
      " - 2s - loss: 1.7770 - acc: 0.3656 - val_loss: 1.7582 - val_acc: 0.3656\n",
      "Epoch 10/30\n",
      " - 2s - loss: 1.6519 - acc: 0.4161 - val_loss: 1.6239 - val_acc: 0.4225\n",
      "Epoch 11/30\n",
      " - 2s - loss: 1.6011 - acc: 0.4347 - val_loss: 1.5924 - val_acc: 0.4386\n",
      "Epoch 12/30\n",
      " - 2s - loss: 1.5531 - acc: 0.4529 - val_loss: 1.5824 - val_acc: 0.4330\n",
      "Epoch 13/30\n",
      " - 2s - loss: 1.5213 - acc: 0.4628 - val_loss: 1.5330 - val_acc: 0.4544\n",
      "Epoch 14/30\n",
      " - 2s - loss: 1.4881 - acc: 0.4761 - val_loss: 1.4975 - val_acc: 0.4677\n",
      "Epoch 15/30\n",
      " - 2s - loss: 1.4606 - acc: 0.4848 - val_loss: 1.5052 - val_acc: 0.4666\n",
      "Epoch 16/30\n",
      " - 2s - loss: 1.4354 - acc: 0.4940 - val_loss: 1.4633 - val_acc: 0.4841\n",
      "Epoch 17/30\n",
      " - 2s - loss: 1.4177 - acc: 0.5001 - val_loss: 1.4617 - val_acc: 0.4780\n",
      "Epoch 18/30\n",
      " - 2s - loss: 1.4018 - acc: 0.5072 - val_loss: 1.5389 - val_acc: 0.4540\n",
      "Epoch 19/30\n",
      " - 2s - loss: 1.3913 - acc: 0.5077 - val_loss: 1.4437 - val_acc: 0.4898\n",
      "Epoch 20/30\n",
      " - 2s - loss: 1.3696 - acc: 0.5184 - val_loss: 1.4706 - val_acc: 0.4838\n",
      "Epoch 21/30\n",
      " - 1s - loss: 1.3523 - acc: 0.5222 - val_loss: 1.4247 - val_acc: 0.5010\n",
      "Epoch 22/30\n",
      " - 2s - loss: 1.3413 - acc: 0.5248 - val_loss: 1.4224 - val_acc: 0.4916\n",
      "Epoch 23/30\n",
      " - 2s - loss: 1.3250 - acc: 0.5322 - val_loss: 1.4191 - val_acc: 0.4976\n",
      "Epoch 24/30\n",
      " - 2s - loss: 1.3196 - acc: 0.5359 - val_loss: 1.4584 - val_acc: 0.4815\n",
      "Epoch 25/30\n",
      " - 2s - loss: 1.2987 - acc: 0.5414 - val_loss: 1.4227 - val_acc: 0.4987\n",
      "Epoch 26/30\n",
      " - 2s - loss: 1.2946 - acc: 0.5443 - val_loss: 1.4246 - val_acc: 0.4918\n",
      "Epoch 27/30\n",
      " - 2s - loss: 1.2763 - acc: 0.5503 - val_loss: 1.4264 - val_acc: 0.4990\n",
      "Epoch 28/30\n",
      " - 2s - loss: 1.2733 - acc: 0.5504 - val_loss: 1.4232 - val_acc: 0.5003\n",
      "Epoch 29/30\n",
      " - 2s - loss: 1.2611 - acc: 0.5561 - val_loss: 1.4160 - val_acc: 0.5027\n",
      "Epoch 30/30\n",
      " - 1s - loss: 1.2548 - acc: 0.5579 - val_loss: 1.4042 - val_acc: 0.5069\n",
      "Baseline Error: 49.31%\n"
     ]
    }
   ],
   "source": [
    "# build the model\n",
    "model = baseline_model()\n",
    "# Fit the model\n",
    "model.fit(X_train, y_train, validation_data=(X_test, y_test), epochs=30, batch_size=200, verbose=2)\n",
    "# Final evaluation of the model\n",
    "scores = model.evaluate(X_test, y_test, verbose=0)\n",
    "print(\"Baseline Error: %.2f%%\" % (100-scores[1]*100))"
   ]
  },
  {
   "cell_type": "markdown",
   "metadata": {},
   "source": [
    "# <font color='red'> Convolutional Neural Network </font>"
   ]
  },
  {
   "cell_type": "code",
   "execution_count": 4,
   "metadata": {},
   "outputs": [],
   "source": [
    "(X_train, y_train), (X_test, y_test) = cifar10.load_data()\n",
    "seed = 7\n",
    "numpy.random.seed(seed)"
   ]
  },
  {
   "cell_type": "code",
   "execution_count": 11,
   "metadata": {},
   "outputs": [
    {
     "data": {
      "text/plain": [
       "(50000, 32, 32, 3)"
      ]
     },
     "execution_count": 11,
     "metadata": {},
     "output_type": "execute_result"
    }
   ],
   "source": [
    "X_train.shape"
   ]
  },
  {
   "cell_type": "code",
   "execution_count": 6,
   "metadata": {},
   "outputs": [],
   "source": [
    "# normalize inputs from 0-255 to 0-1\n",
    "X_train = X_train / 255\n",
    "X_test = X_test / 255\n",
    "# one hot encode outputs\n",
    "y_train = np_utils.to_categorical(y_train)\n",
    "y_test = np_utils.to_categorical(y_test)\n",
    "num_classes = y_test.shape[1]"
   ]
  },
  {
   "cell_type": "code",
   "execution_count": 12,
   "metadata": {},
   "outputs": [],
   "source": [
    "# define the larger model\n",
    "def larger_model():\n",
    "\t# create model\n",
    "\tmodel = Sequential()\n",
    "\tmodel.add(Conv2D(30, (5, 5), input_shape=(32, 32, 3), activation='relu'))\n",
    "\tmodel.add(MaxPooling2D(pool_size=(2, 2)))\n",
    "\tmodel.add(Conv2D(15, (3, 3), activation='relu'))\n",
    "\tmodel.add(MaxPooling2D(pool_size=(2, 2)))\n",
    "\tmodel.add(Dropout(0.2))\n",
    "\tmodel.add(Flatten())\n",
    "\tmodel.add(Dense(128, activation='relu'))\n",
    "\tmodel.add(Dense(50, activation='relu'))\n",
    "\tmodel.add(Dense(num_classes, activation='softmax'))\n",
    "\t# Compile model\n",
    "\tmodel.compile(loss='categorical_crossentropy', optimizer='adam', metrics=['accuracy'])\n",
    "\treturn model"
   ]
  },
  {
   "cell_type": "code",
   "execution_count": 14,
   "metadata": {},
   "outputs": [
    {
     "name": "stdout",
     "output_type": "stream",
     "text": [
      "Train on 50000 samples, validate on 10000 samples\n",
      "Epoch 1/30\n",
      "50000/50000 [==============================] - 2s 35us/step - loss: 1.7537 - acc: 0.3573 - val_loss: 1.4806 - val_acc: 0.4675\n",
      "Epoch 2/30\n",
      "50000/50000 [==============================] - 1s 29us/step - loss: 1.4690 - acc: 0.4707 - val_loss: 1.3681 - val_acc: 0.5139\n",
      "Epoch 3/30\n",
      "50000/50000 [==============================] - 1s 29us/step - loss: 1.3607 - acc: 0.5122 - val_loss: 1.2883 - val_acc: 0.5433\n",
      "Epoch 4/30\n",
      "50000/50000 [==============================] - 1s 29us/step - loss: 1.2856 - acc: 0.5424 - val_loss: 1.2304 - val_acc: 0.5648\n",
      "Epoch 5/30\n",
      "50000/50000 [==============================] - 2s 30us/step - loss: 1.2246 - acc: 0.5651 - val_loss: 1.1596 - val_acc: 0.5854\n",
      "Epoch 6/30\n",
      "50000/50000 [==============================] - 1s 30us/step - loss: 1.1738 - acc: 0.5841 - val_loss: 1.1515 - val_acc: 0.5897\n",
      "Epoch 7/30\n",
      "50000/50000 [==============================] - 2s 30us/step - loss: 1.1181 - acc: 0.6036 - val_loss: 1.0790 - val_acc: 0.6192\n",
      "Epoch 8/30\n",
      "50000/50000 [==============================] - 1s 29us/step - loss: 1.0853 - acc: 0.6145 - val_loss: 1.0653 - val_acc: 0.6226\n",
      "Epoch 9/30\n",
      "50000/50000 [==============================] - 2s 30us/step - loss: 1.0400 - acc: 0.6327 - val_loss: 1.0110 - val_acc: 0.6433\n",
      "Epoch 10/30\n",
      "50000/50000 [==============================] - 2s 31us/step - loss: 1.0106 - acc: 0.6432 - val_loss: 1.0224 - val_acc: 0.6463\n",
      "Epoch 11/30\n",
      "50000/50000 [==============================] - 2s 31us/step - loss: 0.9771 - acc: 0.6538 - val_loss: 0.9829 - val_acc: 0.6571\n",
      "Epoch 12/30\n",
      "50000/50000 [==============================] - 2s 31us/step - loss: 0.9510 - acc: 0.6643 - val_loss: 0.9612 - val_acc: 0.6620\n",
      "Epoch 13/30\n",
      "50000/50000 [==============================] - 1s 30us/step - loss: 0.9225 - acc: 0.6746 - val_loss: 0.9478 - val_acc: 0.6657\n",
      "Epoch 14/30\n",
      "50000/50000 [==============================] - 1s 29us/step - loss: 0.9012 - acc: 0.6809 - val_loss: 0.9660 - val_acc: 0.6608\n",
      "Epoch 15/30\n",
      "50000/50000 [==============================] - 2s 31us/step - loss: 0.8854 - acc: 0.6861 - val_loss: 0.9461 - val_acc: 0.6664\n",
      "Epoch 16/30\n",
      "50000/50000 [==============================] - 2s 30us/step - loss: 0.8670 - acc: 0.6932 - val_loss: 0.9221 - val_acc: 0.6760\n",
      "Epoch 17/30\n",
      "50000/50000 [==============================] - 1s 30us/step - loss: 0.8492 - acc: 0.6994 - val_loss: 0.9207 - val_acc: 0.6760\n",
      "Epoch 18/30\n",
      "50000/50000 [==============================] - 2s 31us/step - loss: 0.8243 - acc: 0.7074 - val_loss: 0.8840 - val_acc: 0.6898\n",
      "Epoch 19/30\n",
      "50000/50000 [==============================] - 2s 32us/step - loss: 0.8186 - acc: 0.7108 - val_loss: 0.8982 - val_acc: 0.6847\n",
      "Epoch 20/30\n",
      "50000/50000 [==============================] - 2s 31us/step - loss: 0.7897 - acc: 0.7202 - val_loss: 0.8882 - val_acc: 0.6905\n",
      "Epoch 21/30\n",
      "50000/50000 [==============================] - 2s 31us/step - loss: 0.7815 - acc: 0.7257 - val_loss: 0.8982 - val_acc: 0.6854\n",
      "Epoch 22/30\n",
      "50000/50000 [==============================] - 1s 29us/step - loss: 0.7662 - acc: 0.7278 - val_loss: 0.8803 - val_acc: 0.6972\n",
      "Epoch 23/30\n",
      "50000/50000 [==============================] - 1s 29us/step - loss: 0.7593 - acc: 0.7310 - val_loss: 0.9085 - val_acc: 0.6896\n",
      "Epoch 24/30\n",
      "50000/50000 [==============================] - 1s 29us/step - loss: 0.7415 - acc: 0.7382 - val_loss: 0.8887 - val_acc: 0.6973\n",
      "Epoch 25/30\n",
      "50000/50000 [==============================] - 1s 30us/step - loss: 0.7339 - acc: 0.7419 - val_loss: 0.8759 - val_acc: 0.7004\n",
      "Epoch 26/30\n",
      "50000/50000 [==============================] - 1s 30us/step - loss: 0.7200 - acc: 0.7453 - val_loss: 0.9798 - val_acc: 0.6683\n",
      "Epoch 27/30\n",
      "50000/50000 [==============================] - 2s 31us/step - loss: 0.7162 - acc: 0.7489 - val_loss: 0.8744 - val_acc: 0.7014\n",
      "Epoch 28/30\n",
      "50000/50000 [==============================] - 1s 29us/step - loss: 0.6985 - acc: 0.7514 - val_loss: 0.8861 - val_acc: 0.6948\n",
      "Epoch 29/30\n",
      "50000/50000 [==============================] - 1s 29us/step - loss: 0.6991 - acc: 0.7540 - val_loss: 0.9001 - val_acc: 0.6889\n",
      "Epoch 30/30\n",
      "50000/50000 [==============================] - 1s 29us/step - loss: 0.6869 - acc: 0.7558 - val_loss: 0.8957 - val_acc: 0.6952\n",
      "Large CNN Error: 30.48%\n"
     ]
    }
   ],
   "source": [
    "# build the model\n",
    "model = larger_model()\n",
    "# Fit the model\n",
    "model.fit(X_train, y_train, validation_data=(X_test, y_test), epochs=30, batch_size=200)\n",
    "# Final evaluation of the model\n",
    "scores = model.evaluate(X_test, y_test, verbose=0)\n",
    "print(\"Large CNN Error: %.2f%%\" % (100-scores[1]*100))"
   ]
  },
  {
   "cell_type": "code",
   "execution_count": null,
   "metadata": {},
   "outputs": [],
   "source": []
  }
 ],
 "metadata": {
  "kernelspec": {
   "display_name": "Python(tf)",
   "language": "python",
   "name": "tf"
  },
  "language_info": {
   "codemirror_mode": {
    "name": "ipython",
    "version": 3
   },
   "file_extension": ".py",
   "mimetype": "text/x-python",
   "name": "python",
   "nbconvert_exporter": "python",
   "pygments_lexer": "ipython3",
   "version": "3.6.8"
  }
 },
 "nbformat": 4,
 "nbformat_minor": 2
}
