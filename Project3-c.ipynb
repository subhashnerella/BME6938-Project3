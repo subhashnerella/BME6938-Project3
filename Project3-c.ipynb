{
 "cells": [
  {
   "cell_type": "markdown",
   "metadata": {},
   "source": [
    "# <font color= 'red'>RESNET50 on CIFAR Dataset</font>"
   ]
  },
  {
   "cell_type": "code",
   "execution_count": 1,
   "metadata": {},
   "outputs": [
    {
     "name": "stderr",
     "output_type": "stream",
     "text": [
      "Using TensorFlow backend.\n"
     ]
    }
   ],
   "source": [
    "from keras.applications.resnet50 import ResNet50\n",
    "from keras.datasets import cifar10\n",
    "from keras.utils import np_utils\n",
    "from keras import backend as K\n",
    "import numpy\n",
    "from keras import optimizers, Model\n",
    "from keras.layers import GlobalAveragePooling2D, Dropout, Dense\n",
    "from keras.callbacks import ModelCheckpoint,ReduceLROnPlateau,LearningRateScheduler,EarlyStopping"
   ]
  },
  {
   "cell_type": "code",
   "execution_count": 2,
   "metadata": {},
   "outputs": [],
   "source": [
    "seed = 7\n",
    "numpy.random.seed(seed)\n",
    "(X_train, y_train), (X_test, y_test) = cifar10.load_data()"
   ]
  },
  {
   "cell_type": "code",
   "execution_count": 3,
   "metadata": {},
   "outputs": [],
   "source": [
    "# normalize inputs from 0-255 to 0-1\n",
    "X_train = X_train / 255\n",
    "X_test = X_test / 255\n",
    "# one hot encode outputs\n",
    "y_train = np_utils.to_categorical(y_train)\n",
    "y_test = np_utils.to_categorical(y_test)\n",
    "num_classes = y_test.shape[1]"
   ]
  },
  {
   "cell_type": "code",
   "execution_count": 7,
   "metadata": {},
   "outputs": [],
   "source": [
    "model = ResNet50(weights =None,input_shape=X_train.shape[1:],classes=10)\n"
   ]
  },
  {
   "cell_type": "code",
   "execution_count": 8,
   "metadata": {},
   "outputs": [],
   "source": [
    "\n",
    "\n",
    "lr_reducer = ReduceLROnPlateau(factor=0.1,\n",
    "                               cooldown=0,\n",
    "                               patience=4,\n",
    "                               min_lr=0.5e-6)\n",
    "earlystop = EarlyStopping(monitor='val_acc', patience=6)\n",
    "callbacks = [ lr_reducer,earlystop]"
   ]
  },
  {
   "cell_type": "code",
   "execution_count": 9,
   "metadata": {
    "scrolled": true
   },
   "outputs": [
    {
     "name": "stdout",
     "output_type": "stream",
     "text": [
      "Train on 50000 samples, validate on 10000 samples\n",
      "Epoch 1/50\n",
      "50000/50000 [==============================] - 24s 481us/step - loss: 1.9541 - acc: 0.3540 - val_loss: 2.8322 - val_acc: 0.3661\n",
      "Epoch 2/50\n",
      "50000/50000 [==============================] - 16s 323us/step - loss: 1.5453 - acc: 0.4694 - val_loss: 10.3284 - val_acc: 0.1050\n",
      "Epoch 3/50\n",
      "50000/50000 [==============================] - 16s 330us/step - loss: 1.5451 - acc: 0.4622 - val_loss: 6.1249 - val_acc: 0.2214\n",
      "Epoch 4/50\n",
      "50000/50000 [==============================] - 17s 331us/step - loss: 1.3022 - acc: 0.5414 - val_loss: 1.6507 - val_acc: 0.4292\n",
      "Epoch 5/50\n",
      "50000/50000 [==============================] - 17s 331us/step - loss: 1.3941 - acc: 0.5321 - val_loss: 4.6988 - val_acc: 0.2669\n",
      "Epoch 6/50\n",
      "50000/50000 [==============================] - 17s 332us/step - loss: 1.2924 - acc: 0.5550 - val_loss: 1.3370 - val_acc: 0.5248\n",
      "Epoch 7/50\n",
      "50000/50000 [==============================] - 17s 332us/step - loss: 1.1948 - acc: 0.5949 - val_loss: 2.5653 - val_acc: 0.0900\n",
      "Epoch 8/50\n",
      "50000/50000 [==============================] - 17s 331us/step - loss: 1.7067 - acc: 0.4202 - val_loss: 2.3207 - val_acc: 0.2944\n",
      "Epoch 9/50\n",
      "50000/50000 [==============================] - 17s 332us/step - loss: 1.5092 - acc: 0.4718 - val_loss: 1.8981 - val_acc: 0.3908\n",
      "Epoch 10/50\n",
      "50000/50000 [==============================] - 17s 332us/step - loss: 1.3136 - acc: 0.5419 - val_loss: 1.4735 - val_acc: 0.4980\n",
      "Epoch 11/50\n",
      "50000/50000 [==============================] - 17s 332us/step - loss: 1.2753 - acc: 0.5600 - val_loss: 1.3488 - val_acc: 0.5285\n",
      "Epoch 12/50\n",
      "50000/50000 [==============================] - 17s 332us/step - loss: 1.2972 - acc: 0.5581 - val_loss: 4.0929 - val_acc: 0.1838\n",
      "Epoch 13/50\n",
      "50000/50000 [==============================] - 17s 332us/step - loss: 1.2952 - acc: 0.5548 - val_loss: 7.1764 - val_acc: 0.1974\n",
      "Epoch 14/50\n",
      "50000/50000 [==============================] - 17s 332us/step - loss: 1.1383 - acc: 0.6138 - val_loss: 1.3307 - val_acc: 0.5402\n",
      "Epoch 15/50\n",
      "50000/50000 [==============================] - 17s 332us/step - loss: 1.3318 - acc: 0.5439 - val_loss: 2.1254 - val_acc: 0.3474\n",
      "Epoch 16/50\n",
      "50000/50000 [==============================] - 17s 332us/step - loss: 1.2150 - acc: 0.5880 - val_loss: 2.7318 - val_acc: 0.1414\n",
      "Epoch 17/50\n",
      "50000/50000 [==============================] - 17s 333us/step - loss: 1.3093 - acc: 0.5627 - val_loss: 1.4098 - val_acc: 0.5254\n",
      "Epoch 18/50\n",
      "50000/50000 [==============================] - 17s 332us/step - loss: 1.0588 - acc: 0.6420 - val_loss: 1.1779 - val_acc: 0.5935\n",
      "Epoch 19/50\n",
      "50000/50000 [==============================] - 17s 332us/step - loss: 1.0899 - acc: 0.6345 - val_loss: 14.4546 - val_acc: 0.1004\n",
      "Epoch 20/50\n",
      "50000/50000 [==============================] - 17s 336us/step - loss: 1.1162 - acc: 0.6275 - val_loss: 1.2184 - val_acc: 0.5864\n",
      "Epoch 21/50\n",
      "50000/50000 [==============================] - 16s 329us/step - loss: 1.1171 - acc: 0.6233 - val_loss: 2.0700 - val_acc: 0.3521\n",
      "Epoch 22/50\n",
      "50000/50000 [==============================] - 16s 327us/step - loss: 1.1391 - acc: 0.6143 - val_loss: 1.8090 - val_acc: 0.4449\n",
      "Epoch 23/50\n",
      "50000/50000 [==============================] - 17s 334us/step - loss: 1.3757 - acc: 0.5339 - val_loss: 1.8473 - val_acc: 0.4508\n",
      "Epoch 24/50\n",
      "50000/50000 [==============================] - 17s 338us/step - loss: 1.3631 - acc: 0.5329 - val_loss: 3.9487 - val_acc: 0.1782\n",
      "Epoch 25/50\n",
      "50000/50000 [==============================] - 17s 336us/step - loss: 1.6260 - acc: 0.4425 - val_loss: 2.0413 - val_acc: 0.3332\n",
      "Epoch 26/50\n",
      "50000/50000 [==============================] - 17s 334us/step - loss: 1.3422 - acc: 0.5324 - val_loss: 1.4620 - val_acc: 0.4874\n",
      "Epoch 27/50\n",
      "50000/50000 [==============================] - 17s 335us/step - loss: 1.4595 - acc: 0.5078 - val_loss: 2.2648 - val_acc: 0.3207\n",
      "Epoch 28/50\n",
      "50000/50000 [==============================] - 17s 334us/step - loss: 1.4891 - acc: 0.4867 - val_loss: 1.7537 - val_acc: 0.3977\n",
      "Epoch 29/50\n",
      "50000/50000 [==============================] - 17s 334us/step - loss: 1.3404 - acc: 0.5431 - val_loss: 2.6371 - val_acc: 0.2351\n",
      "Epoch 30/50\n",
      "50000/50000 [==============================] - 17s 336us/step - loss: 1.3778 - acc: 0.5239 - val_loss: 2.2368 - val_acc: 0.3504\n",
      "Epoch 31/50\n",
      "50000/50000 [==============================] - 17s 336us/step - loss: 1.4678 - acc: 0.4871 - val_loss: 5.3141 - val_acc: 0.2914\n",
      "Epoch 32/50\n",
      "50000/50000 [==============================] - 17s 336us/step - loss: 1.2968 - acc: 0.5565 - val_loss: 1.2988 - val_acc: 0.5415\n",
      "Epoch 33/50\n",
      "50000/50000 [==============================] - 17s 331us/step - loss: 1.2052 - acc: 0.5897 - val_loss: 2.6542 - val_acc: 0.2849\n",
      "Epoch 34/50\n",
      "50000/50000 [==============================] - 17s 332us/step - loss: 1.3398 - acc: 0.5385 - val_loss: 1.4160 - val_acc: 0.5056\n",
      "Epoch 35/50\n",
      "50000/50000 [==============================] - 17s 340us/step - loss: 1.2055 - acc: 0.5850 - val_loss: 1.2103 - val_acc: 0.5610\n",
      "Epoch 36/50\n",
      "50000/50000 [==============================] - 17s 345us/step - loss: 1.2781 - acc: 0.5553 - val_loss: 1.2945 - val_acc: 0.5619\n",
      "Epoch 37/50\n",
      "50000/50000 [==============================] - 17s 333us/step - loss: 1.1630 - acc: 0.5962 - val_loss: 2.8121 - val_acc: 0.2670\n",
      "Epoch 38/50\n",
      "50000/50000 [==============================] - 17s 333us/step - loss: 1.1604 - acc: 0.5996 - val_loss: 11.1893 - val_acc: 0.1025\n",
      "Epoch 39/50\n",
      "50000/50000 [==============================] - 17s 332us/step - loss: 1.0297 - acc: 0.6373 - val_loss: 1.0445 - val_acc: 0.6262\n",
      "Epoch 40/50\n",
      "50000/50000 [==============================] - 17s 332us/step - loss: 0.9102 - acc: 0.6744 - val_loss: 1.0446 - val_acc: 0.6394\n",
      "Epoch 41/50\n",
      "50000/50000 [==============================] - 17s 332us/step - loss: 0.8534 - acc: 0.6964 - val_loss: 0.9718 - val_acc: 0.6543\n",
      "Epoch 42/50\n",
      "50000/50000 [==============================] - 17s 332us/step - loss: 0.8011 - acc: 0.7151 - val_loss: 0.9440 - val_acc: 0.6669\n",
      "Epoch 43/50\n",
      "50000/50000 [==============================] - 17s 332us/step - loss: 0.7217 - acc: 0.7435 - val_loss: 0.9450 - val_acc: 0.6719\n",
      "Epoch 44/50\n",
      "50000/50000 [==============================] - 17s 333us/step - loss: 0.6678 - acc: 0.7633 - val_loss: 0.9789 - val_acc: 0.6730\n",
      "Epoch 45/50\n",
      "50000/50000 [==============================] - 17s 334us/step - loss: 0.6043 - acc: 0.7845 - val_loss: 1.0068 - val_acc: 0.6712\n",
      "Epoch 46/50\n",
      "50000/50000 [==============================] - 17s 333us/step - loss: 0.5418 - acc: 0.8071 - val_loss: 0.9967 - val_acc: 0.6754\n",
      "Epoch 47/50\n",
      "50000/50000 [==============================] - 17s 332us/step - loss: 0.4959 - acc: 0.8249 - val_loss: 1.0358 - val_acc: 0.6748\n",
      "Epoch 48/50\n",
      "50000/50000 [==============================] - 17s 332us/step - loss: 0.4182 - acc: 0.8508 - val_loss: 1.0800 - val_acc: 0.6745\n",
      "Epoch 49/50\n",
      "50000/50000 [==============================] - 17s 332us/step - loss: 0.4582 - acc: 0.8396 - val_loss: 1.0775 - val_acc: 0.6796\n",
      "Epoch 50/50\n",
      "50000/50000 [==============================] - 17s 331us/step - loss: 0.3526 - acc: 0.8738 - val_loss: 1.1323 - val_acc: 0.6911\n",
      "Large CNN Error: 30.89%\n"
     ]
    }
   ],
   "source": [
    "Adam = optimizers.Adam(lr=0.0001)\n",
    "model.compile(loss='categorical_crossentropy', optimizer=Adam, metrics=['accuracy'])\n",
    "# Fit the model\n",
    "model.fit(X_train, y_train, validation_data=(X_test, y_test), epochs=50, batch_size=200)\n",
    "# Final evaluation of the model\n",
    "scores = model.evaluate(X_test, y_test, verbose=0)\n",
    "print(\"Large CNN Error: %.2f%%\" % (100-scores[1]*100))"
   ]
  },
  {
   "cell_type": "code",
   "execution_count": null,
   "metadata": {},
   "outputs": [],
   "source": []
  }
 ],
 "metadata": {
  "kernelspec": {
   "display_name": "Python(tf)",
   "language": "python",
   "name": "tf"
  },
  "language_info": {
   "codemirror_mode": {
    "name": "ipython",
    "version": 3
   },
   "file_extension": ".py",
   "mimetype": "text/x-python",
   "name": "python",
   "nbconvert_exporter": "python",
   "pygments_lexer": "ipython3",
   "version": "3.6.8"
  }
 },
 "nbformat": 4,
 "nbformat_minor": 2
}
